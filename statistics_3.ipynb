{
  "nbformat": 4,
  "nbformat_minor": 0,
  "metadata": {
    "colab": {
      "name": "Untitled",
      "version": "0.3.2",
      "provenance": [],
      "toc_visible": true,
      "include_colab_link": true
    },
    "kernelspec": {
      "name": "python3",
      "display_name": "Python 3"
    }
  },
  "cells": [
    {
      "cell_type": "markdown",
      "metadata": {
        "id": "view-in-github",
        "colab_type": "text"
      },
      "source": [
        "<a href=\"https://colab.research.google.com/github/yustiks/statistics_in_python/blob/master/statistics_3.ipynb\" target=\"_parent\"><img src=\"https://colab.research.google.com/assets/colab-badge.svg\" alt=\"Open In Colab\"/></a>"
      ]
    },
    {
      "metadata": {
        "id": "1FPVixDzeWIC",
        "colab_type": "text"
      },
      "cell_type": "markdown",
      "source": [
        "# Распределение Стьюдента\n",
        "\n"
      ]
    },
    {
      "metadata": {
        "id": "w_Btdx_9etTs",
        "colab_type": "text"
      },
      "cell_type": "markdown",
      "source": [
        "Получение информации о распределении"
      ]
    },
    {
      "metadata": {
        "id": "QhlLJB9YnwRS",
        "colab_type": "code",
        "colab": {}
      },
      "cell_type": "code",
      "source": [
        "import numpy as np\n",
        "from scipy.stats import t\n",
        "from scipy.stats import norm\n",
        "import matplotlib.pyplot as plt\n",
        "from scipy import stats\n",
        "import pandas as pd\n",
        "%matplotlib inline"
      ],
      "execution_count": 0,
      "outputs": []
    },
    {
      "metadata": {
        "id": "YYdruH_EeVcC",
        "colab_type": "code",
        "outputId": "615b3fa6-3527-4b22-8ebe-b203556d812a",
        "colab": {
          "base_uri": "https://localhost:8080/",
          "height": 34
        }
      },
      "cell_type": "code",
      "source": [
        "from scipy.stats import t\n",
        "\n",
        "# Freeze for df=20, loc=0, scale=1 and get the first four moments from stats()\n",
        "rv = t(df=20, loc=0, scale=1)\n",
        "mean, var, skew, kurt = rv.stats(moments='mvsk')\n",
        "mean, var, skew, kurt"
      ],
      "execution_count": 0,
      "outputs": [
        {
          "output_type": "execute_result",
          "data": {
            "text/plain": [
              "(array(0.), array(1.11111111), array(0.), array(0.375))"
            ]
          },
          "metadata": {
            "tags": []
          },
          "execution_count": 2
        }
      ]
    },
    {
      "metadata": {
        "id": "Krg-Q7krezEh",
        "colab_type": "text"
      },
      "cell_type": "markdown",
      "source": [
        "График плотности распределения"
      ]
    },
    {
      "metadata": {
        "id": "w7RQssHue4_Y",
        "colab_type": "code",
        "outputId": "47b78bc9-1261-46bc-bd55-3fc294ac8555",
        "colab": {
          "base_uri": "https://localhost:8080/",
          "height": 269
        }
      },
      "cell_type": "code",
      "source": [
        "rv = t(df=2, loc=0, scale=1)\n",
        "x = np.linspace(rv.ppf(0.0001), rv.ppf(0.9999), 1000)\n",
        "y = rv.pdf(x) \n",
        "# A simplistic way to do it\n",
        "x1 = np.linspace(-5,5,1000)     # define a big enough x interval \n",
        "y1 = norm.pdf(x1)              # get the norm.pdf for x interval   \n",
        "\n",
        "plt.xlim(-5,5)\n",
        "plt.legend(['Нормальное распределение', 'Стьюдента'])\n",
        "plt.plot(x,y,'r.')\n",
        "plt.plot(x1,y1,'b')\n",
        "plt.show()"
      ],
      "execution_count": 0,
      "outputs": [
        {
          "output_type": "display_data",
          "data": {
            "image/png": "[encoded data removed]",
            "text/plain": [
              "<Figure size 432x288 with 1 Axes>"
            ]
          },
          "metadata": {
            "tags": []
          }
        }
      ]
    },
    {
      "metadata": {
        "id": "Y5dROXM-f3Af",
        "colab_type": "text"
      },
      "cell_type": "markdown",
      "source": [
        "Вероятность перехода пороговой границы "
      ]
    },
    {
      "metadata": {
        "id": "Ou44TBPhf6TB",
        "colab_type": "code",
        "outputId": "011bd06d-474a-4b11-b365-afcddac0a30f",
        "colab": {
          "base_uri": "https://localhost:8080/",
          "height": 34
        }
      },
      "cell_type": "code",
      "source": [
        "a = 0.05  # set the cutoff\n",
        "\n",
        "rv = t(df=20, loc=0, scale=1)\n",
        "x = np.random.normal(size=1)\n",
        "\n",
        "p = rv.sf(x) # equal but sometimes more accurate than '1-rv.cdf(x)'\n",
        "\n",
        "if p < a:\n",
        "    print('Cutoff at: ', x, p)\n",
        "else:\n",
        "    print('No cutoff', x, p)"
      ],
      "execution_count": 0,
      "outputs": [
        {
          "output_type": "stream",
          "text": [
            "No cutoff [0.86481011] [0.1986988]\n"
          ],
          "name": "stdout"
        }
      ]
    },
    {
      "metadata": {
        "id": "Z-8aXO-Fk8kJ",
        "colab_type": "text"
      },
      "cell_type": "markdown",
      "source": [
        "# Дискретные распределения"
      ]
    },
    {
      "metadata": {
        "id": "MgP6_vCVlmwd",
        "colab_type": "text"
      },
      "cell_type": "markdown",
      "source": [
        "Распределение Бернулли"
      ]
    },
    {
      "metadata": {
        "id": "RQsHhf2Inr4h",
        "colab_type": "code",
        "colab": {}
      },
      "cell_type": "code",
      "source": [
        "p = 0.3\n",
        "mean, var, skew, kurt = stats.bernoulli.stats(p, moments='mvsk')"
      ],
      "execution_count": 0,
      "outputs": []
    },
    {
      "metadata": {
        "id": "1YTLqzL8qO1Z",
        "colab_type": "text"
      },
      "cell_type": "markdown",
      "source": [
        "Бернулли возвращает значения либо 1, либо 0. Чтобы сгенерировать 10000 случайных чисел Бернулли с вероятностью успеха p =0.3, мы будем использовать bernoulli.rvs с 2мя аргументами."
      ]
    },
    {
      "metadata": {
        "id": "weTvOZYoo4kJ",
        "colab_type": "code",
        "colab": {
          "base_uri": "https://localhost:8080/",
          "height": 429
        },
        "outputId": "c8aeaca4-7cb7-4217-862f-cb3b548b2e05"
      },
      "cell_type": "code",
      "source": [
        "# import seaborn\n",
        "import seaborn as sns\n",
        "data_bern = stats.bernoulli.rvs(size=10000,p=0.3)\n",
        "ax= sns.distplot(data_bern,\n",
        "                 kde=False,\n",
        "                 color=\"skyblue\",\n",
        "                 hist_kws={\"linewidth\": 15,'alpha':1})\n",
        "ax.set(xlabel='Бернулли', ylabel='Вероятность')"
      ],
      "execution_count": 37,
      "outputs": [
        {
          "output_type": "stream",
          "text": [
            "/usr/local/lib/python3.6/dist-packages/matplotlib/axes/_axes.py:6521: MatplotlibDeprecationWarning: \n",
            "The 'normed' kwarg was deprecated in Matplotlib 2.1 and will be removed in 3.1. Use 'density' instead.\n",
            "  alternative=\"'density'\", removal=\"3.1\")\n"
          ],
          "name": "stderr"
        },
        {
          "output_type": "execute_result",
          "data": {
            "text/plain": [
              "[Text(0, 0.5, 'Вероятность'), Text(0.5, 0, 'Бернулли')]"
            ]
          },
          "metadata": {
            "tags": []
          },
          "execution_count": 37
        },
        {
          "output_type": "display_data",
          "data": {
            "image/png": "[encoded data removed]",
            "text/plain": [
              "<Figure size 576x396 with 1 Axes>"
            ]
          },
          "metadata": {
            "tags": []
          }
        }
      ]
    },
    {
      "metadata": {
        "id": "Qer-NkvYtNGR",
        "colab_type": "text"
      },
      "cell_type": "markdown",
      "source": [
        "# Биномиальное распределение"
      ]
    },
    {
      "metadata": {
        "id": "pSdlk5ggtRBg",
        "colab_type": "text"
      },
      "cell_type": "markdown",
      "source": [
        "Обобщение распределения Бернулли"
      ]
    },
    {
      "metadata": {
        "id": "kxxWJP--tTnd",
        "colab_type": "code",
        "colab": {}
      },
      "cell_type": "code",
      "source": [
        "data_binom = stats.binom.rvs(n=10,p=0.8,size=10000)"
      ],
      "execution_count": 0,
      "outputs": []
    },
    {
      "metadata": {
        "id": "TqbYhAc6uBpV",
        "colab_type": "text"
      },
      "cell_type": "markdown",
      "source": [
        "Рассматриваем n экспериментов с вероятностью успеха p"
      ]
    },
    {
      "metadata": {
        "id": "B4VDPaLFtXBU",
        "colab_type": "code",
        "colab": {
          "base_uri": "https://localhost:8080/",
          "height": 446
        },
        "outputId": "f5bd23fc-a943-45ee-d0c0-83e8b018d317"
      },
      "cell_type": "code",
      "source": [
        "ax = sns.distplot(data_binom,\n",
        "                  kde=False,\n",
        "                  color='skyblue',\n",
        "                  hist_kws={\"linewidth\": 15,'alpha':1})\n",
        "ax.set(xlabel='Биноминальное распределение', ylabel='Частота (плотность)')"
      ],
      "execution_count": 40,
      "outputs": [
        {
          "output_type": "stream",
          "text": [
            "/usr/local/lib/python3.6/dist-packages/matplotlib/axes/_axes.py:6521: MatplotlibDeprecationWarning: \n",
            "The 'normed' kwarg was deprecated in Matplotlib 2.1 and will be removed in 3.1. Use 'density' instead.\n",
            "  alternative=\"'density'\", removal=\"3.1\")\n"
          ],
          "name": "stderr"
        },
        {
          "output_type": "execute_result",
          "data": {
            "text/plain": [
              "[Text(0, 0.5, 'Частота (плотность)'),\n",
              " Text(0.5, 0, 'Биноминальное распределение')]"
            ]
          },
          "metadata": {
            "tags": []
          },
          "execution_count": 40
        },
        {
          "output_type": "display_data",
          "data": {
            "image/png": "[encoded data removed]",
            "text/plain": [
              "<Figure size 576x396 with 1 Axes>"
            ]
          },
          "metadata": {
            "tags": []
          }
        }
      ]
    },
    {
      "metadata": {
        "id": "grPowLTyuH-c",
        "colab_type": "text"
      },
      "cell_type": "markdown",
      "source": [
        "# Произвольная случайная величина"
      ]
    },
    {
      "metadata": {
        "id": "fnMIg6r4k2ZN",
        "colab_type": "text"
      },
      "cell_type": "markdown",
      "source": [
        "Для того чтобы сгенеровать дискретную случайную величину, можно воспользоваться numpy.random.choice:"
      ]
    },
    {
      "metadata": {
        "id": "wI6Yz1fFk7d3",
        "colab_type": "code",
        "colab": {
          "base_uri": "https://localhost:8080/",
          "height": 34
        },
        "outputId": "275c4535-b9c0-4aea-e097-44cc2d660640"
      },
      "cell_type": "code",
      "source": [
        "sample = np.array([1, 4, -1, 0])\n",
        "probas = [0.15, 0.5, 0.16, 0.19]\n",
        "np.random.choice(sample, 10, p=probas)"
      ],
      "execution_count": 26,
      "outputs": [
        {
          "output_type": "execute_result",
          "data": {
            "text/plain": [
              "array([ 4,  0,  0,  1, -1, -1,  4,  4,  1, -1])"
            ]
          },
          "metadata": {
            "tags": []
          },
          "execution_count": 26
        }
      ]
    },
    {
      "metadata": {
        "id": "l9YP1iMClJuy",
        "colab_type": "text"
      },
      "cell_type": "markdown",
      "source": [
        "Она работает следующим образом - мы выбираем, какое количество элементов будет в выборке,и в зависимости от заданной вероятности, в выборку добавляются значения. Например, у значения 4 вероятность появления 0.5 - в итоговой выборке встречается наиболее часто."
      ]
    },
    {
      "metadata": {
        "id": "xq7H_skpuNxV",
        "colab_type": "text"
      },
      "cell_type": "markdown",
      "source": [
        "# Проверка гипотезы t-критерия Стьюдента"
      ]
    },
    {
      "metadata": {
        "id": "UxSf9R7xlKms",
        "colab_type": "code",
        "colab": {}
      },
      "cell_type": "code",
      "source": [
        "import pandas as pd\n",
        "import io\n",
        "import requests\n",
        "url='http://yustiks.ru/bog_clean.csv'\n",
        "s=requests.get(url).content\n",
        "taxi_bog=pd.read_csv(io.StringIO(s.decode('utf-8')))\n",
        "\n",
        "url='http://yustiks.ru/mex_clean.csv'\n",
        "s=requests.get(url).content\n",
        "taxi_mex = pd.read_csv(io.StringIO(s.decode('utf-8')))"
      ],
      "execution_count": 0,
      "outputs": []
    },
    {
      "metadata": {
        "id": "O5cCLMMtzVap",
        "colab_type": "text"
      },
      "cell_type": "markdown",
      "source": [
        "Рассмотрим две выборки $X$ и $Y$, и мы хотим сравнить их средние значения $\\mu_x$ и $\\mu_y$\n",
        "\n",
        "Тогда рассматривается нулевая гипотеза:\n",
        "$$\n",
        "H_0: \\mu_x = \\mu_y\n",
        "$$\n",
        "и альтернативная:\n",
        "\n",
        "$$\n",
        "H_1: \\mu_x \\ne \\mu_y.\n",
        "$$"
      ]
    },
    {
      "metadata": {
        "id": "-JcEV8pUzgN_",
        "colab_type": "text"
      },
      "cell_type": "markdown",
      "source": [
        "t-критерий Стьюдента — общее название для класса методов статистической проверки гипотез (статистических критериев), основанных на распределении Стьюдента. Наиболее частые случаи применения t-критерия связаны с проверкой равенства средних значений в двух выборках.\n",
        "\n",
        "t-статистика строится обычно по следующему общему принципу: в числителе случайная величина с нулевым математическим ожиданием (при выполнении нулевой гипотезы), а в знаменателе — выборочное стандартное отклонение этой случайной величины, получаемое как квадратный корень из несмещённой оценки дисперсии."
      ]
    },
    {
      "metadata": {
        "id": "I3GDcZPzzg41",
        "colab_type": "text"
      },
      "cell_type": "markdown",
      "source": [
        "После этого t-статистики находится уровень значимости и сравниваетя с заранее заданным p-value. P-value - это вероятность того что данные выборки получились случайным способом.\n",
        "\n",
        "Если статистика меньше уровня значимости, то нулевая гипотеза отвергается. В противном случае она не отвергается."
      ]
    },
    {
      "metadata": {
        "id": "MAUJkoNuzotD",
        "colab_type": "text"
      },
      "cell_type": "markdown",
      "source": [
        "# Одновыборочный t-критерий"
      ]
    },
    {
      "metadata": {
        "id": "AgbpktghzyFt",
        "colab_type": "text"
      },
      "cell_type": "markdown",
      "source": [
        "$$t = \\frac{\\overline X - m}{s_X / \\sqrt{n}}$$"
      ]
    },
    {
      "metadata": {
        "id": "yH92oI8UzXXB",
        "colab_type": "code",
        "colab": {
          "base_uri": "https://localhost:8080/",
          "height": 34
        },
        "outputId": "2200d1eb-d9a9-4d62-d0cb-f44f7f234cf6"
      },
      "cell_type": "code",
      "source": [
        "sample = taxi_mex['wait_sec'].sample(n=3000)/60\n",
        "stats.ttest_1samp(sample, 10)"
      ],
      "execution_count": 48,
      "outputs": [
        {
          "output_type": "execute_result",
          "data": {
            "text/plain": [
              "Ttest_1sampResult(statistic=1.2113984573822072, pvalue=0.22583817370086087)"
            ]
          },
          "metadata": {
            "tags": []
          },
          "execution_count": 48
        }
      ]
    },
    {
      "metadata": {
        "id": "g2Wrcn5j1iLw",
        "colab_type": "text"
      },
      "cell_type": "markdown",
      "source": [
        "# Двухвыборочный критерий для независимых выборок"
      ]
    },
    {
      "metadata": {
        "id": "JaIs5hGl1lEF",
        "colab_type": "text"
      },
      "cell_type": "markdown",
      "source": [
        "$$t = \\frac{\\overline X_1 - \\overline X_2}{\\sqrt{\\frac{s_1^2}{n_1}+\\frac{s_2^2}{n_2}}}$$"
      ]
    },
    {
      "metadata": {
        "id": "WkhVWiOq1pZf",
        "colab_type": "code",
        "colab": {}
      },
      "cell_type": "code",
      "source": [
        "taxi_mex['pickup_datetime'] = pd.to_datetime(taxi_mex.pickup_datetime)\n",
        "taxi_mex['month'] = taxi_mex['pickup_datetime'].dt.month"
      ],
      "execution_count": 0,
      "outputs": []
    },
    {
      "metadata": {
        "id": "ymNVqGHT1xVx",
        "colab_type": "code",
        "colab": {
          "base_uri": "https://localhost:8080/",
          "height": 34
        },
        "outputId": "eb6dcbbc-2a9e-4da2-e3cf-432439f41757"
      },
      "cell_type": "code",
      "source": [
        "taxi_bog.shape"
      ],
      "execution_count": 50,
      "outputs": [
        {
          "output_type": "execute_result",
          "data": {
            "text/plain": [
              "(3063, 12)"
            ]
          },
          "metadata": {
            "tags": []
          },
          "execution_count": 50
        }
      ]
    },
    {
      "metadata": {
        "id": "2LkTQGe21yIW",
        "colab_type": "code",
        "colab": {
          "base_uri": "https://localhost:8080/",
          "height": 34
        },
        "outputId": "f932d510-11f5-4dd1-f038-9cff9f02caea"
      },
      "cell_type": "code",
      "source": [
        "taxi_mex.shape"
      ],
      "execution_count": 51,
      "outputs": [
        {
          "output_type": "execute_result",
          "data": {
            "text/plain": [
              "(12694, 13)"
            ]
          },
          "metadata": {
            "tags": []
          },
          "execution_count": 51
        }
      ]
    },
    {
      "metadata": {
        "id": "Lk1TWPum17xg",
        "colab_type": "text"
      },
      "cell_type": "markdown",
      "source": [
        "Длительность поездок - отличается ли средняя длительность поездки по Мехико от средней поездки по Боготе?"
      ]
    },
    {
      "metadata": {
        "id": "GNi9gbSa15OT",
        "colab_type": "code",
        "colab": {
          "base_uri": "https://localhost:8080/",
          "height": 34
        },
        "outputId": "4a11df82-9c51-40b7-f3cd-7b6d7f95661e"
      },
      "cell_type": "code",
      "source": [
        "stats.ttest_ind(taxi_mex['trip_duration'].sample(n=3000), taxi_bog['trip_duration'].sample(n=3000))"
      ],
      "execution_count": 52,
      "outputs": [
        {
          "output_type": "execute_result",
          "data": {
            "text/plain": [
              "Ttest_indResult(statistic=-5.61811116439023, pvalue=2.0173426501596677e-08)"
            ]
          },
          "metadata": {
            "tags": []
          },
          "execution_count": 52
        }
      ]
    },
    {
      "metadata": {
        "id": "trj7xFiw2AFv",
        "colab_type": "text"
      },
      "cell_type": "markdown",
      "source": [
        "p-value меньше уровня значимости, а это означает, что мы отвергаем нулевую гипотезу, и выборки имеют разные средние"
      ]
    },
    {
      "metadata": {
        "id": "gl_iN8z-2DJ_",
        "colab_type": "text"
      },
      "cell_type": "markdown",
      "source": [
        "А вот в случае ожидания времени такси мы уже не можем отвергнуть нулевую гипотезу"
      ]
    },
    {
      "metadata": {
        "id": "3QKHfib-2A1M",
        "colab_type": "code",
        "colab": {
          "base_uri": "https://localhost:8080/",
          "height": 34
        },
        "outputId": "4662030b-a8ef-4ba0-df26-b19bb7cbc135"
      },
      "cell_type": "code",
      "source": [
        "stats.ttest_ind(taxi_mex['wait_sec'].sample(n=3000), taxi_bog['wait_sec'].sample(n=3000))"
      ],
      "execution_count": 53,
      "outputs": [
        {
          "output_type": "execute_result",
          "data": {
            "text/plain": [
              "Ttest_indResult(statistic=0.37578742925822234, pvalue=0.707088223516454)"
            ]
          },
          "metadata": {
            "tags": []
          },
          "execution_count": 53
        }
      ]
    },
    {
      "metadata": {
        "id": "OZO9Jz3Q2J1o",
        "colab_type": "text"
      },
      "cell_type": "markdown",
      "source": [
        "# Двухвыборочный критерий для зависимых выборок"
      ]
    },
    {
      "metadata": {
        "id": "YzHWjHBr2N1u",
        "colab_type": "text"
      },
      "cell_type": "markdown",
      "source": [
        "Для вычисления эмпирического значения t-критерия в ситуации проверки гипотезы о различиях между двумя зависимыми выборками (например, двумя пробами одного и того же теста с временным интервалом) применяется следующая формула:"
      ]
    },
    {
      "metadata": {
        "id": "RjGoZimh2QXS",
        "colab_type": "code",
        "colab": {
          "base_uri": "https://localhost:8080/",
          "height": 34
        },
        "outputId": "80df030e-ba3f-44f0-e986-4cd94fd469f2"
      },
      "cell_type": "code",
      "source": [
        "control = taxi_mex[taxi_mex.month == 11]['trip_duration'].sample(n=1000)\n",
        "treatment = taxi_mex[taxi_mex.month == 12]['trip_duration'].sample(n=1000)\n",
        "\n",
        "stats.ttest_rel(control, treatment)"
      ],
      "execution_count": 54,
      "outputs": [
        {
          "output_type": "execute_result",
          "data": {
            "text/plain": [
              "Ttest_relResult(statistic=-0.8880910999792782, pvalue=0.374705519388131)"
            ]
          },
          "metadata": {
            "tags": []
          },
          "execution_count": 54
        }
      ]
    },
    {
      "metadata": {
        "id": "U173Yamt2UZA",
        "colab_type": "text"
      },
      "cell_type": "markdown",
      "source": [
        "# Другие методы тестирования"
      ]
    },
    {
      "metadata": {
        "id": "e7aHsh1-2Wiy",
        "colab_type": "text"
      },
      "cell_type": "markdown",
      "source": [
        "https://en.wikipedia.org/wiki/A/B_testing - примеры других критериев"
      ]
    }
  ]
}