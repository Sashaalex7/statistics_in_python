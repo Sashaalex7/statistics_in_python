{
  "nbformat": 4,
  "nbformat_minor": 0,
  "metadata": {
    "colab": {
      "name": "Untitled6.ipynb",
      "version": "0.3.2",
      "provenance": [],
      "toc_visible": true,
      "include_colab_link": true
    },
    "kernelspec": {
      "name": "python3",
      "display_name": "Python 3"
    }
  },
  "cells": [
    {
      "cell_type": "markdown",
      "metadata": {
        "id": "view-in-github",
        "colab_type": "text"
      },
      "source": [
        "<a href=\"https://colab.research.google.com/github/yustiks/statistics_in_python/blob/master/statistics_3.ipynb\" target=\"_parent\"><img src=\"https://colab.research.google.com/assets/colab-badge.svg\" alt=\"Open In Colab\"/></a>"
      ]
    },
    {
      "metadata": {
        "id": "1FPVixDzeWIC",
        "colab_type": "text"
      },
      "cell_type": "markdown",
      "source": [
        "# Распределение Стьюдента\n",
        "\n"
      ]
    },
    {
      "metadata": {
        "id": "w_Btdx_9etTs",
        "colab_type": "text"
      },
      "cell_type": "markdown",
      "source": [
        "Получение информации о распределении"
      ]
    },
    {
      "metadata": {
        "id": "YYdruH_EeVcC",
        "colab_type": "code",
        "colab": {
          "base_uri": "https://localhost:8080/",
          "height": 34
        },
        "outputId": "615b3fa6-3527-4b22-8ebe-b203556d812a"
      },
      "cell_type": "code",
      "source": [
        "from scipy.stats import t\n",
        "\n",
        "# Freeze for df=20, loc=0, scale=1 and get the first four moments from stats()\n",
        "rv = t(df=20, loc=0, scale=1)\n",
        "mean, var, skew, kurt = rv.stats(moments='mvsk')\n",
        "mean, var, skew, kurt"
      ],
      "execution_count": 2,
      "outputs": [
        {
          "output_type": "execute_result",
          "data": {
            "text/plain": [
              "(array(0.), array(1.11111111), array(0.), array(0.375))"
            ]
          },
          "metadata": {
            "tags": []
          },
          "execution_count": 2
        }
      ]
    },
    {
      "metadata": {
        "id": "Krg-Q7krezEh",
        "colab_type": "text"
      },
      "cell_type": "markdown",
      "source": [
        "График плотности распределения"
      ]
    },
    {
      "metadata": {
        "id": "w7RQssHue4_Y",
        "colab_type": "code",
        "colab": {
          "base_uri": "https://localhost:8080/",
          "height": 269
        },
        "outputId": "47b78bc9-1261-46bc-bd55-3fc294ac8555"
      },
      "cell_type": "code",
      "source": [
        "import numpy as np\n",
        "from scipy.stats import t\n",
        "from scipy.stats import norm\n",
        "import matplotlib.pyplot as plt\n",
        "%matplotlib inline\n",
        "\n",
        "rv = t(df=2, loc=0, scale=1)\n",
        "x = np.linspace(rv.ppf(0.0001), rv.ppf(0.9999), 1000)\n",
        "y = rv.pdf(x) \n",
        "# A simplistic way to do it\n",
        "x1 = np.linspace(-5,5,1000)     # define a big enough x interval \n",
        "y1 = norm.pdf(x1)              # get the norm.pdf for x interval   \n",
        "\n",
        "plt.xlim(-5,5)\n",
        "plt.legend(['Нормальное распределение', 'Стьюдента'])\n",
        "plt.plot(x,y,'r.')\n",
        "plt.plot(x1,y1,'b')\n",
        "plt.show()"
      ],
      "execution_count": 25,
      "outputs": [
        {
          "output_type": "display_data",
          "data": {
            "image/png": "[encoded data removed]",
            "text/plain": [
              "<Figure size 432x288 with 1 Axes>"
            ]
          },
          "metadata": {
            "tags": []
          }
        }
      ]
    },
    {
      "metadata": {
        "id": "Y5dROXM-f3Af",
        "colab_type": "text"
      },
      "cell_type": "markdown",
      "source": [
        "Вероятность перехода пороговой границы "
      ]
    },
    {
      "metadata": {
        "id": "Ou44TBPhf6TB",
        "colab_type": "code",
        "colab": {
          "base_uri": "https://localhost:8080/",
          "height": 34
        },
        "outputId": "011bd06d-474a-4b11-b365-afcddac0a30f"
      },
      "cell_type": "code",
      "source": [
        "a = 0.05  # set the cutoff\n",
        "\n",
        "rv = t(df=20, loc=0, scale=1)\n",
        "x = np.random.normal(size=1)\n",
        "\n",
        "p = rv.sf(x) # equal but sometimes more accurate than '1-rv.cdf(x)'\n",
        "\n",
        "if p < a:\n",
        "    print('Cutoff at: ', x, p)\n",
        "else:\n",
        "    print('No cutoff', x, p)"
      ],
      "execution_count": 12,
      "outputs": [
        {
          "output_type": "stream",
          "text": [
            "No cutoff [0.86481011] [0.1986988]\n"
          ],
          "name": "stdout"
        }
      ]
    }
  ]
}