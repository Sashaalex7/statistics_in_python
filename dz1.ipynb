{
  "nbformat": 4,
  "nbformat_minor": 0,
  "metadata": {
    "colab": {
      "name": "dz.ipynb",
      "version": "0.3.2",
      "provenance": [],
      "include_colab_link": true
    },
    "kernelspec": {
      "name": "python3",
      "display_name": "Python 3"
    }
  },
  "cells": [
    {
      "cell_type": "markdown",
      "metadata": {
        "id": "view-in-github",
        "colab_type": "text"
      },
      "source": [
        "<a href=\"https://colab.research.google.com/github/yustiks/statistics_in_python/blob/master/dz.ipynb\" target=\"_parent\"><img src=\"https://colab.research.google.com/assets/colab-badge.svg\" alt=\"Open In Colab\"/></a>"
      ]
    },
    {
      "metadata": {
        "id": "QVI-7gzMl70f",
        "colab_type": "text"
      },
      "cell_type": "markdown",
      "source": [
        "# Домашнее задание по статистическому анализу на python"
      ]
    },
    {
      "metadata": {
        "id": "4IGVqb7KvSxe",
        "colab_type": "code",
        "colab": {}
      },
      "cell_type": "code",
      "source": [
        "import pandas as pd\n",
        "import numpy as np\n",
        "import matplotlib.pyplot as plt\n",
        "import scipy.stats as sts\n",
        "%matplotlib inline"
      ],
      "execution_count": 0,
      "outputs": []
    },
    {
      "metadata": {
        "id": "LN3xwZBXou5m",
        "colab_type": "text"
      },
      "cell_type": "markdown",
      "source": [
        "Построить нормальное гауссово распределение для двух переменных: x, y. Нарисовать их на плоскости (scatter plot)."
      ]
    },
    {
      "metadata": {
        "id": "LHSIiOzIogrV",
        "colab_type": "code",
        "colab": {}
      },
      "cell_type": "code",
      "source": [
        ""
      ],
      "execution_count": 0,
      "outputs": []
    },
    {
      "metadata": {
        "id": "LgJpJ1fipP-6",
        "colab_type": "text"
      },
      "cell_type": "markdown",
      "source": [
        "Нарисовать плотность распределения полученной выборки x."
      ]
    },
    {
      "metadata": {
        "id": "_TzLUV4KoiBs",
        "colab_type": "text"
      },
      "cell_type": "markdown",
      "source": [
        "Изменить гауссово распределение с помощью матрицы масштабирования Scale = [[n, 0], [0, n]], где n - число, во сколько раз увеличиваем разброс данной выборки. Построить график зависимости (корелляции) x от y."
      ]
    },
    {
      "metadata": {
        "id": "jRjpIGdil04c",
        "colab_type": "code",
        "colab": {}
      },
      "cell_type": "code",
      "source": [
        ""
      ],
      "execution_count": 0,
      "outputs": []
    },
    {
      "metadata": {
        "id": "QUXjguUhpJ4u",
        "colab_type": "text"
      },
      "cell_type": "markdown",
      "source": [
        "Нарисовать плотность распределения полученной выборки x. Сравнить с предыдущим графиком x. "
      ]
    },
    {
      "metadata": {
        "id": "fN07UDGUpbPC",
        "colab_type": "code",
        "colab": {}
      },
      "cell_type": "code",
      "source": [
        ""
      ],
      "execution_count": 0,
      "outputs": []
    },
    {
      "metadata": {
        "id": "JHWM3kQTpbbb",
        "colab_type": "text"
      },
      "cell_type": "markdown",
      "source": [
        "Посчитать коэффициент Пирсона для переменных x, y. Что означает положительное значение коэффициента? Отрицательное? 0? "
      ]
    },
    {
      "metadata": {
        "id": "UCW7a_C0p07u",
        "colab_type": "code",
        "colab": {}
      },
      "cell_type": "code",
      "source": [
        ""
      ],
      "execution_count": 0,
      "outputs": []
    },
    {
      "metadata": {
        "id": "27mvsIYNp1tB",
        "colab_type": "text"
      },
      "cell_type": "markdown",
      "source": [
        "Сгенерировать равномерное распределение на отрезке [1, 10]. Нарисовать график плотности распределения. Чем оно отличается от нормального?"
      ]
    },
    {
      "metadata": {
        "id": "UxXFiUb9qCxq",
        "colab_type": "code",
        "colab": {}
      },
      "cell_type": "code",
      "source": [
        ""
      ],
      "execution_count": 0,
      "outputs": []
    },
    {
      "metadata": {
        "id": "NIWbSwrXqHuU",
        "colab_type": "text"
      },
      "cell_type": "markdown",
      "source": [
        "Найти на графике примеры выброса. Что они означают?  "
      ]
    },
    {
      "metadata": {
        "id": "OhMm4MuYvNb_",
        "colab_type": "code",
        "colab": {
          "base_uri": "https://localhost:8080/",
          "height": 282
        },
        "outputId": "d22c443b-72a9-4a75-d375-164be4f7e630"
      },
      "cell_type": "code",
      "source": [
        ""
      ],
      "execution_count": 8,
      "outputs": [
        {
          "output_type": "execute_result",
          "data": {
            "text/plain": [
              "<matplotlib.collections.PathCollection at 0x7efe03ff9e48>"
            ]
          },
          "metadata": {
            "tags": []
          },
          "execution_count": 8
        },
        {
          "output_type": "display_data",
          "data": {
            "image/png": "[encoded data removed]",
            "text/plain": [
              "<Figure size 432x288 with 1 Axes>"
            ]
          },
          "metadata": {
            "tags": []
          }
        }
      ]
    },
    {
      "metadata": {
        "id": "RAbZRTRG2Ci0",
        "colab_type": "text"
      },
      "cell_type": "markdown",
      "source": [
        "Найти корелляцию в следующих данных: "
      ]
    },
    {
      "metadata": {
        "id": "gmgMOe_e2H-_",
        "colab_type": "code",
        "colab": {
          "base_uri": "https://localhost:8080/",
          "height": 210
        },
        "outputId": "660725cd-b466-4ee4-f374-6f0d94c589ef"
      },
      "cell_type": "code",
      "source": [
        "import io\n",
        "import requests\n",
        "url=\"http://yustiks.ru/avocado.csv\"\n",
        "df=pd.read_csv(url)\n",
        "df[:3]"
      ],
      "execution_count": 9,
      "outputs": [
        {
          "output_type": "execute_result",
          "data": {
            "text/html": [
              "<div>\n",
              "<style scoped>\n",
              "    .dataframe tbody tr th:only-of-type {\n",
              "        vertical-align: middle;\n",
              "    }\n",
              "\n",
              "    .dataframe tbody tr th {\n",
              "        vertical-align: top;\n",
              "    }\n",
              "\n",
              "    .dataframe thead th {\n",
              "        text-align: right;\n",
              "    }\n",
              "</style>\n",
              "<table border=\"1\" class=\"dataframe\">\n",
              "  <thead>\n",
              "    <tr style=\"text-align: right;\">\n",
              "      <th></th>\n",
              "      <th>Unnamed: 0</th>\n",
              "      <th>Date</th>\n",
              "      <th>AveragePrice</th>\n",
              "      <th>Total Volume</th>\n",
              "      <th>4046</th>\n",
              "      <th>4225</th>\n",
              "      <th>4770</th>\n",
              "      <th>Total Bags</th>\n",
              "      <th>Small Bags</th>\n",
              "      <th>Large Bags</th>\n",
              "      <th>XLarge Bags</th>\n",
              "      <th>type</th>\n",
              "      <th>year</th>\n",
              "      <th>region</th>\n",
              "    </tr>\n",
              "  </thead>\n",
              "  <tbody>\n",
              "    <tr>\n",
              "      <th>0</th>\n",
              "      <td>0</td>\n",
              "      <td>2015-12-27</td>\n",
              "      <td>1.33</td>\n",
              "      <td>64236.62</td>\n",
              "      <td>1036.74</td>\n",
              "      <td>54454.85</td>\n",
              "      <td>48.16</td>\n",
              "      <td>8696.87</td>\n",
              "      <td>8603.62</td>\n",
              "      <td>93.25</td>\n",
              "      <td>0.0</td>\n",
              "      <td>conventional</td>\n",
              "      <td>2015</td>\n",
              "      <td>Albany</td>\n",
              "    </tr>\n",
              "    <tr>\n",
              "      <th>1</th>\n",
              "      <td>1</td>\n",
              "      <td>2015-12-20</td>\n",
              "      <td>1.35</td>\n",
              "      <td>54876.98</td>\n",
              "      <td>674.28</td>\n",
              "      <td>44638.81</td>\n",
              "      <td>58.33</td>\n",
              "      <td>9505.56</td>\n",
              "      <td>9408.07</td>\n",
              "      <td>97.49</td>\n",
              "      <td>0.0</td>\n",
              "      <td>conventional</td>\n",
              "      <td>2015</td>\n",
              "      <td>Albany</td>\n",
              "    </tr>\n",
              "    <tr>\n",
              "      <th>2</th>\n",
              "      <td>2</td>\n",
              "      <td>2015-12-13</td>\n",
              "      <td>0.93</td>\n",
              "      <td>118220.22</td>\n",
              "      <td>794.70</td>\n",
              "      <td>109149.67</td>\n",
              "      <td>130.50</td>\n",
              "      <td>8145.35</td>\n",
              "      <td>8042.21</td>\n",
              "      <td>103.14</td>\n",
              "      <td>0.0</td>\n",
              "      <td>conventional</td>\n",
              "      <td>2015</td>\n",
              "      <td>Albany</td>\n",
              "    </tr>\n",
              "  </tbody>\n",
              "</table>\n",
              "</div>"
            ],
            "text/plain": [
              "   Unnamed: 0        Date  AveragePrice  Total Volume     4046       4225  \\\n",
              "0           0  2015-12-27          1.33      64236.62  1036.74   54454.85   \n",
              "1           1  2015-12-20          1.35      54876.98   674.28   44638.81   \n",
              "2           2  2015-12-13          0.93     118220.22   794.70  109149.67   \n",
              "\n",
              "     4770  Total Bags  Small Bags  Large Bags  XLarge Bags          type  \\\n",
              "0   48.16     8696.87     8603.62       93.25          0.0  conventional   \n",
              "1   58.33     9505.56     9408.07       97.49          0.0  conventional   \n",
              "2  130.50     8145.35     8042.21      103.14          0.0  conventional   \n",
              "\n",
              "   year  region  \n",
              "0  2015  Albany  \n",
              "1  2015  Albany  \n",
              "2  2015  Albany  "
            ]
          },
          "metadata": {
            "tags": []
          },
          "execution_count": 9
        }
      ]
    },
    {
      "metadata": {
        "id": "zR3V0X_T1_4Y",
        "colab_type": "text"
      },
      "cell_type": "markdown",
      "source": [
        "Корелляция между: 4046 - Total number of avocados with PLU 4046 sold  и например Average Price. Если корелляция есть, то скорее всего, данный вид авокадо дорогой по цене и он влияет на среднюю стоимость."
      ]
    }
  ]
}
